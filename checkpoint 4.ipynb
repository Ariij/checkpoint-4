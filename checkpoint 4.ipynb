{
 "cells": [
  {
   "cell_type": "code",
   "execution_count": 2,
   "metadata": {},
   "outputs": [
    {
     "name": "stdout",
     "output_type": "stream",
     "text": [
      "1\n",
      "4\n",
      "5\n",
      "the maximum is :  5\n"
     ]
    }
   ],
   "source": [
    "def maximum(a, b, c): \n",
    "  \n",
    "    if (a >= b) and (a >= c): \n",
    "        largest = a \n",
    "  \n",
    "    elif (b >= a) and (b >= c): \n",
    "        largest = b \n",
    "    else: \n",
    "        largest = c \n",
    "          \n",
    "    return largest \n",
    "  \n",
    "a = input()\n",
    "b = input()\n",
    "c = input()\n",
    "print(\"the maximum is : \",maximum(a, b, c)) "
   ]
  },
  {
   "cell_type": "code",
   "execution_count": null,
   "metadata": {},
   "outputs": [
    {
     "name": "stdout",
     "output_type": "stream",
     "text": [
      "please enter the number of input in your list\n"
     ]
    }
   ],
   "source": [
    "total = 0\n",
    "# Iterate each element in list \n",
    "# and add them in variale total\n",
    "\n",
    "def addition(my_list):\n",
    "    total=0\n",
    "    for i in my_list: \n",
    "        total = total + my_list[i] \n",
    "    return total        \n",
    "        \n",
    "\n",
    "\n",
    "\n",
    "# Python function to multiply all values in the \n",
    "def multiplyList(my_List) : \n",
    "      \n",
    "    # Multiply elements one by one \n",
    "    result = 1\n",
    "    for x in my_List: \n",
    "         result = result * x \n",
    "    return result \n",
    "\n",
    "  \n",
    "# creating a list \n",
    "my_list = []\n",
    "print(\"please enter the number of input in your list\")\n",
    "n= int(input())\n",
    "print(\"now please enter\", n ,\"values in your list \")\n",
    "for i in range(0, n):\n",
    "    my_list.append(int(input()))\n",
    "print(\"your list is: \",my_list) \n",
    "\n",
    "\n",
    "#sum and multiplication\n",
    "d1=[]\n",
    "d2=[]\n",
    "\n",
    "for i in range (0, n):\n",
    "    if i%2==0:\n",
    "        d1.append(my_list[i])\n",
    "    else:\n",
    "        d2.append(my_list[i])\n",
    "        \n",
    "print(\"the sum of the elements are: \")\n",
    "addition(d1)\n",
    "print(\"the multiplication of the elements gives: \")\n",
    "multiplylist(d2)\n",
    "\n"
   ]
  },
  {
   "cell_type": "code",
   "execution_count": null,
   "metadata": {},
   "outputs": [],
   "source": [
    "def sortword(my_string): \n",
    "    words = my_string.split() # according to w3schools, The split() method splits a string into a list.string.split(separator, maxsplit)\n",
    "    words.sort()     #this will sort the strings \n",
    "\n",
    "   \n",
    "    for i in words: #display the strings\n",
    "        print( i )  \n",
    "  \n",
    "\n",
    "\n",
    "if __name__ == '__main__':       \n",
    "   \n",
    "    my_string = string(input())\n",
    "              \n",
    "    # Calling function \n",
    "    sortword(my_string) "
   ]
  },
  {
   "cell_type": "code",
   "execution_count": null,
   "metadata": {},
   "outputs": [],
   "source": []
  }
 ],
 "metadata": {
  "kernelspec": {
   "display_name": "Python 3",
   "language": "python",
   "name": "python3"
  },
  "language_info": {
   "codemirror_mode": {
    "name": "ipython",
    "version": 3
   },
   "file_extension": ".py",
   "mimetype": "text/x-python",
   "name": "python",
   "nbconvert_exporter": "python",
   "pygments_lexer": "ipython3",
   "version": "3.7.6"
  }
 },
 "nbformat": 4,
 "nbformat_minor": 4
}
